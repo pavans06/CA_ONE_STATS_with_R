{
  "nbformat": 4,
  "nbformat_minor": 0,
  "metadata": {
    "colab": {
      "name": "CA_ONE_Pavan_Seerapu",
      "provenance": []
    },
    "kernelspec": {
      "name": "python3",
      "display_name": "Python 3"
    },
    "language_info": {
      "name": "python"
    }
  },
  "cells": [
    {
      "cell_type": "code",
      "metadata": {
        "id": "4FwuZ_VLsCx5"
      },
      "source": [
        "%load_ext rpy2.ipython"
      ],
      "execution_count": null,
      "outputs": []
    },
    {
      "cell_type": "code",
      "metadata": {
        "colab": {
          "resources": {
            "http://localhost:8080/nbextensions/google.colab/files.js": {
              "data": "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",
              "ok": true,
              "headers": [
                [
                  "content-type",
                  "application/javascript"
                ]
              ],
              "status": 200,
              "status_text": ""
            }
          },
          "base_uri": "https://localhost:8080/",
          "height": 73
        },
        "id": "BiWsG9xmsdS7",
        "outputId": "cea3c967-d47f-42a0-d3f6-37f9cb6d0dd3"
      },
      "source": [
        "from google.colab import files\n",
        "uploaded = files.upload()"
      ],
      "execution_count": null,
      "outputs": [
        {
          "output_type": "display_data",
          "data": {
            "text/html": [
              "\n",
              "     <input type=\"file\" id=\"files-59522720-2d55-4e90-a563-8b242b1162e5\" name=\"files[]\" multiple disabled\n",
              "        style=\"border:none\" />\n",
              "     <output id=\"result-59522720-2d55-4e90-a563-8b242b1162e5\">\n",
              "      Upload widget is only available when the cell has been executed in the\n",
              "      current browser session. Please rerun this cell to enable.\n",
              "      </output>\n",
              "      <script src=\"/nbextensions/google.colab/files.js\"></script> "
            ],
            "text/plain": [
              "<IPython.core.display.HTML object>"
            ]
          },
          "metadata": {}
        },
        {
          "output_type": "stream",
          "name": "stdout",
          "text": [
            "Saving ICUData.csv to ICUData.csv\n"
          ]
        }
      ]
    },
    {
      "cell_type": "code",
      "metadata": {
        "id": "2TXNdTthsi5i",
        "colab": {
          "base_uri": "https://localhost:8080/"
        },
        "outputId": "0c1ab24b-4295-4102-ae34-fc19590604a6"
      },
      "source": [
        "%%R\n",
        "ICUData_df = read.csv('ICUData.csv')\n",
        "head(ICUData_df)"
      ],
      "execution_count": null,
      "outputs": [
        {
          "output_type": "stream",
          "name": "stdout",
          "text": [
            "  ID    sex age          surgery heart.rate temperature bilirubin SAPS.II\n",
            "1  1 female  76            other       98.0        36.5  6.512142      57\n",
            "2  2 female  60 gastrointestinal       80.0        38.1 14.523197      52\n",
            "3  3   male  66   cardiothoracic       99.6        37.4 22.972480      57\n",
            "4  4   male  74            other      110.0        39.1 19.299346      45\n",
            "5  5 female  68            other       94.1        38.5 39.076485      49\n",
            "6  6   male  68   cardiothoracic       88.8        35.1 14.805941      53\n",
            "  liver.failure LOS              outcome\n",
            "1             0   1                 died\n",
            "2             0   2                 home\n",
            "3             0   1 secondary care/rehab\n",
            "4             0   2                 home\n",
            "5             0   1                 home\n",
            "6             0   1 secondary care/rehab\n"
          ]
        }
      ]
    },
    {
      "cell_type": "code",
      "metadata": {
        "colab": {
          "base_uri": "https://localhost:8080/"
        },
        "id": "1NHss4tJsw6p",
        "outputId": "1644fd74-4804-4315-9a0e-5ea59f37ce20"
      },
      "source": [
        "%%R\n",
        "str(ICUData_df)"
      ],
      "execution_count": null,
      "outputs": [
        {
          "output_type": "stream",
          "name": "stdout",
          "text": [
            "'data.frame':\t500 obs. of  11 variables:\n",
            " $ ID           : int  1 2 3 4 5 6 7 8 9 10 ...\n",
            " $ sex          : chr  \"female\" \"female\" \"male\" \"male\" ...\n",
            " $ age          : int  76 60 66 74 68 68 70 55 75 71 ...\n",
            " $ surgery      : chr  \"other\" \"gastrointestinal\" \"cardiothoracic\" \"other\" ...\n",
            " $ heart.rate   : num  98 80 99.6 110 94.1 88.8 102 106 109 102 ...\n",
            " $ temperature  : num  36.5 38.1 37.4 39.1 38.5 35.1 36.7 39.8 39.9 38.4 ...\n",
            " $ bilirubin    : num  6.51 14.52 22.97 19.3 39.08 ...\n",
            " $ SAPS.II      : int  57 52 57 45 49 53 25 19 58 56 ...\n",
            " $ liver.failure: int  0 0 0 0 0 0 0 0 0 0 ...\n",
            " $ LOS          : int  1 2 1 2 1 1 1 1 1 3 ...\n",
            " $ outcome      : chr  \"died\" \"home\" \"secondary care/rehab\" \"home\" ...\n"
          ]
        }
      ]
    },
    {
      "cell_type": "code",
      "metadata": {
        "colab": {
          "base_uri": "https://localhost:8080/"
        },
        "id": "cxiOgOBWL6EN",
        "outputId": "fb15c064-f041-4f45-ac0f-fa95f632783d"
      },
      "source": [
        "%%R\n",
        "#Checking number of rows and column in data\n",
        "dim(ICUData_df)"
      ],
      "execution_count": null,
      "outputs": [
        {
          "output_type": "stream",
          "name": "stdout",
          "text": [
            "[1] 500  11\n"
          ]
        }
      ]
    },
    {
      "cell_type": "code",
      "metadata": {
        "colab": {
          "base_uri": "https://localhost:8080/"
        },
        "id": "fWAhjr45MIYv",
        "outputId": "fe5ac4ad-ea91-4383-81fb-8891c2005ff9"
      },
      "source": [
        "%%R\n",
        "#statical information of data\n",
        "summary(ICUData_df)"
      ],
      "execution_count": null,
      "outputs": [
        {
          "output_type": "stream",
          "name": "stdout",
          "text": [
            "       ID            sex                 age          surgery         \n",
            " Min.   :  1.0   Length:500         Min.   :18.00   Length:500        \n",
            " 1st Qu.:125.8   Class :character   1st Qu.:55.00   Class :character  \n",
            " Median :250.5   Mode  :character   Median :66.00   Mode  :character  \n",
            " Mean   :250.5                      Mean   :63.06                     \n",
            " 3rd Qu.:375.2                      3rd Qu.:73.00                     \n",
            " Max.   :500.0                      Max.   :98.00                     \n",
            "   heart.rate      temperature      bilirubin          SAPS.II      \n",
            " Min.   : 59.20   Min.   : 9.10   Min.   :  3.679   Min.   : 12.00  \n",
            " 1st Qu.: 92.72   1st Qu.:36.90   1st Qu.: 10.705   1st Qu.: 31.00  \n",
            " Median :104.00   Median :37.70   Median : 15.312   Median : 42.00  \n",
            " Mean   :107.41   Mean   :37.66   Mean   : 25.744   Mean   : 44.88  \n",
            " 3rd Qu.:119.00   3rd Qu.:38.40   3rd Qu.: 23.427   3rd Qu.: 57.00  \n",
            " Max.   :186.00   Max.   :42.00   Max.   :647.305   Max.   :125.00  \n",
            " liver.failure       LOS           outcome         \n",
            " Min.   :0.00   Min.   :  1.00   Length:500        \n",
            " 1st Qu.:0.00   1st Qu.:  1.00   Class :character  \n",
            " Median :0.00   Median :  1.00   Mode  :character  \n",
            " Mean   :0.04   Mean   :  5.29                     \n",
            " 3rd Qu.:0.00   3rd Qu.:  5.00                     \n",
            " Max.   :1.00   Max.   :105.00                     \n"
          ]
        }
      ]
    },
    {
      "cell_type": "code",
      "metadata": {
        "id": "eg7dqhUAMSbl",
        "colab": {
          "base_uri": "https://localhost:8080/"
        },
        "outputId": "cd205306-65b9-4033-f5da-820863b961e7"
      },
      "source": [
        "%%R\n",
        "#Counting unique value in each column of data\n",
        "apply(ICUData_df, 2, function(x){length(unique(x))})"
      ],
      "execution_count": null,
      "outputs": [
        {
          "output_type": "stream",
          "name": "stdout",
          "text": [
            "           ID           sex           age       surgery    heart.rate \n",
            "          500             2            72             5           175 \n",
            "  temperature     bilirubin       SAPS.II liver.failure           LOS \n",
            "           63           500            78             2            37 \n",
            "      outcome \n",
            "            4 \n"
          ]
        }
      ]
    },
    {
      "cell_type": "code",
      "metadata": {
        "id": "ymqD9pmWs7Pw"
      },
      "source": [
        "#Installng package\n",
        "%%R\n",
        "install.packages(c(\"DescTools\", \"scales\", \"ggplot2\", \"MKdescr\"))"
      ],
      "execution_count": null,
      "outputs": []
    },
    {
      "cell_type": "code",
      "metadata": {
        "id": "pD1t5FvLtMK0"
      },
      "source": [
        "%%R\n",
        "library(DescTools)\n",
        "library(scales)\n",
        "library(ggplot2)\n",
        "library(MKdescr)"
      ],
      "execution_count": null,
      "outputs": []
    },
    {
      "cell_type": "code",
      "metadata": {
        "colab": {
          "base_uri": "https://localhost:8080/"
        },
        "id": "gImnkdFPtWV9",
        "outputId": "57e3afdd-809f-45fd-b017-4d2b400dec9f"
      },
      "source": [
        "#Categorical Variables Univariate Analysis\n",
        "%%R\n",
        "table(ICUData_df$surgery)"
      ],
      "execution_count": null,
      "outputs": [
        {
          "output_type": "stream",
          "name": "stdout",
          "text": [
            "\n",
            "  cardiothoracic gastrointestinal            neuro            other \n",
            "             223               79               46              121 \n",
            "          trauma \n",
            "              31 \n"
          ]
        }
      ]
    },
    {
      "cell_type": "code",
      "metadata": {
        "colab": {
          "base_uri": "https://localhost:8080/"
        },
        "id": "burgi2GEtg00",
        "outputId": "ebcd744c-1afa-4065-e80c-2d64b7aca7b8"
      },
      "source": [
        "%%R\n",
        "table(ICUData_df$surgery)/nrow(ICUData_df)"
      ],
      "execution_count": null,
      "outputs": [
        {
          "output_type": "stream",
          "name": "stdout",
          "text": [
            "\n",
            "  cardiothoracic gastrointestinal            neuro            other \n",
            "           0.446            0.158            0.092            0.242 \n",
            "          trauma \n",
            "           0.062 \n"
          ]
        }
      ]
    },
    {
      "cell_type": "code",
      "metadata": {
        "colab": {
          "base_uri": "https://localhost:8080/"
        },
        "id": "c2c338-Ktikb",
        "outputId": "d3d92b1e-beb5-4d2e-af79-fbbaf6899363"
      },
      "source": [
        "%%R\n",
        "Freq(ICUData_df$surgery)"
      ],
      "execution_count": null,
      "outputs": [
        {
          "output_type": "stream",
          "name": "stdout",
          "text": [
            "              level  freq   perc  cumfreq  cumperc\n",
            "1    cardiothoracic   223  44.6%      223    44.6%\n",
            "2  gastrointestinal    79  15.8%      302    60.4%\n",
            "3             neuro    46   9.2%      348    69.6%\n",
            "4             other   121  24.2%      469    93.8%\n",
            "5            trauma    31   6.2%      500   100.0%\n"
          ]
        }
      ]
    },
    {
      "cell_type": "code",
      "metadata": {
        "colab": {
          "base_uri": "https://localhost:8080/",
          "height": 497
        },
        "id": "eJ5Qj6uVtkq8",
        "outputId": "ba6575ac-6c11-4fb6-a8c0-8eaaaeeec1aa"
      },
      "source": [
        "%%R\n",
        "barplot(table(ICUData_df$surgery))"
      ],
      "execution_count": null,
      "outputs": [
        {
          "output_type": "display_data",
          "data": {
            "image/png": "[encoded data removed]"
          },
          "metadata": {}
        }
      ]
    },
    {
      "cell_type": "code",
      "metadata": {
        "colab": {
          "base_uri": "https://localhost:8080/",
          "height": 497
        },
        "id": "-Au5aBhytmq2",
        "outputId": "ae3325cc-4102-4ffe-b89e-f7383034199b"
      },
      "source": [
        "%%R\n",
        "barplot(table(ICUData_df$surgery), main = \"Kind of surgery\",\n",
        "        ylab = \"Absolute frequency\")"
      ],
      "execution_count": null,
      "outputs": [
        {
          "output_type": "display_data",
          "data": {
            "image/png": "[encoded data removed]"
          },
          "metadata": {}
        }
      ]
    },
    {
      "cell_type": "code",
      "metadata": {
        "colab": {
          "base_uri": "https://localhost:8080/",
          "height": 497
        },
        "id": "umu03_lqtnhi",
        "outputId": "bc49362a-0702-4b2b-a307-26d5e285c527"
      },
      "source": [
        "%%R\n",
        "# Assign data\n",
        "ggplot(ICUData_df, aes(x=surgery)) +\n",
        "  #Add bars with relative frequencies\n",
        "  geom_bar(aes(y = (..count..)/sum(..count..)), width = 0.5) +\n",
        "  #The percent of relative frequency\n",
        "  scale_y_continuous(labels = percent_format(accuracy = 1)) +\n",
        "  #Title and label of y axis\n",
        "  ggtitle(\"Kind of surgery\") + ylab(\"Relative frequency in %\")"
      ],
      "execution_count": null,
      "outputs": [
        {
          "output_type": "display_data",
          "data": {
            "image/png": "[encoded data removed]"
          },
          "metadata": {}
        }
      ]
    },
    {
      "cell_type": "code",
      "metadata": {
        "colab": {
          "base_uri": "https://localhost:8080/",
          "height": 497
        },
        "id": "Uwzwwy34tuGr",
        "outputId": "8bee0b76-3f35-4cf2-c3f9-b3161de9f5f3"
      },
      "source": [
        "%%R\n",
        "pie(table(ICUData_df$surgery), main = \"Kind of surgery\")"
      ],
      "execution_count": null,
      "outputs": [
        {
          "output_type": "display_data",
          "data": {
            "image/png": "[encoded data removed]"
          },
          "metadata": {}
        }
      ]
    },
    {
      "cell_type": "code",
      "metadata": {
        "colab": {
          "base_uri": "https://localhost:8080/"
        },
        "id": "fo02gUu2omU6",
        "outputId": "aaeb97a3-9024-4829-f1f7-f705c222ed05"
      },
      "source": [
        "#Categorical Variables Univariate Analysis\n",
        "%%R\n",
        "table(ICUData_df$outcome)"
      ],
      "execution_count": null,
      "outputs": [
        {
          "output_type": "stream",
          "name": "stdout",
          "text": [
            "\n",
            "                died                 home       other hospital \n",
            "                  69                  170                   72 \n",
            "secondary care/rehab \n",
            "                 189 \n"
          ]
        }
      ]
    },
    {
      "cell_type": "code",
      "metadata": {
        "colab": {
          "base_uri": "https://localhost:8080/",
          "height": 497
        },
        "id": "kyrYqQnNoxfX",
        "outputId": "4bdefee1-7b4d-4abe-c842-8b0a02841b10"
      },
      "source": [
        "%%R\n",
        "ggplot(ICUData_df, aes(x = `outcome`)) +\n",
        "        geom_bar() +\n",
        "        theme(axis.text.x = element_text(angle = 45, hjust = 1))"
      ],
      "execution_count": null,
      "outputs": [
        {
          "output_type": "display_data",
          "data": {
            "image/png": "[encoded data removed]"
          },
          "metadata": {}
        }
      ]
    },
    {
      "cell_type": "code",
      "metadata": {
        "colab": {
          "base_uri": "https://localhost:8080/",
          "height": 497
        },
        "id": "xx8kJndlpB6z",
        "outputId": "1a03b657-42ad-45ac-e356-eee7b92885d7"
      },
      "source": [
        "%%R\n",
        "ggplot(ICUData_df, aes(x = `outcome`)) +\n",
        "        geom_bar() +\n",
        "        theme(axis.text.x = element_text(angle = 45, hjust = 1))"
      ],
      "execution_count": null,
      "outputs": [
        {
          "output_type": "display_data",
          "data": {
            "image/png": "[encoded data removed]"
          },
          "metadata": {}
        }
      ]
    },
    {
      "cell_type": "code",
      "metadata": {
        "colab": {
          "base_uri": "https://localhost:8080/",
          "height": 497
        },
        "id": "X6eUsvQYpMdu",
        "outputId": "c6c7f4b7-3758-46bb-e615-12f6db656358"
      },
      "source": [
        "# re-order levels\n",
        "%%R\n",
        "reorder_size <- function(x) {\n",
        "        factor(x, levels = names(sort(table(x), decreasing = TRUE)))\n",
        "}\n",
        "\n",
        "ggplot(ICUData_df, aes(x = reorder_size(`outcome`))) +\n",
        "        geom_bar() +\n",
        "        xlab(\"Outcome of ICU patient\") +\n",
        "        theme(axis.text.x = element_text(angle = 45, hjust = 1))"
      ],
      "execution_count": null,
      "outputs": [
        {
          "output_type": "display_data",
          "data": {
            "image/png": "[encoded data removed]"
          },
          "metadata": {}
        }
      ]
    },
    {
      "cell_type": "code",
      "metadata": {
        "colab": {
          "base_uri": "https://localhost:8080/"
        },
        "id": "QY0nDokwtxs5",
        "outputId": "326a394c-00cc-4d3e-fc94-4b6549c20641"
      },
      "source": [
        "%%R\n",
        "ceiling(c(2.01, 3.88))"
      ],
      "execution_count": null,
      "outputs": [
        {
          "output_type": "stream",
          "name": "stdout",
          "text": [
            "[1] 3 4\n"
          ]
        }
      ]
    },
    {
      "cell_type": "code",
      "metadata": {
        "id": "i8PWkaHvt0iC"
      },
      "source": [
        "## Concatenating numbers to a vector\n",
        "%%R\n",
        "x <- c(2, 4, 6, 8, 10, 12, 14, 16, 18, 20)\n",
        "## Sequence: beginn = 2, end = 20, distance = 2\n",
        "x <- seq(from = 2, to = 20, by = 2)"
      ],
      "execution_count": null,
      "outputs": []
    },
    {
      "cell_type": "code",
      "metadata": {
        "colab": {
          "base_uri": "https://localhost:8080/"
        },
        "id": "KLOZ4IiIt6Yx",
        "outputId": "8d3f4a13-896e-4108-c4a9-10efff3b431e"
      },
      "source": [
        "%%R\n",
        "x\n",
        "## R default\n",
        "quantile(x, probs = 0.2)\n",
        "## Type used by SAS software\n",
        "quantile(x, type = 3, probs = 0.2)\n",
        "## Type used by SPSS and Minitab software\n",
        "quantile(x, type = 6, probs = 0.2)"
      ],
      "execution_count": null,
      "outputs": [
        {
          "output_type": "stream",
          "name": "stdout",
          "text": [
            "20% \n",
            "4.4 \n"
          ]
        }
      ]
    },
    {
      "cell_type": "code",
      "metadata": {
        "colab": {
          "base_uri": "https://localhost:8080/"
        },
        "id": "-dwgzTL6t9GD",
        "outputId": "e45f3bf5-0c09-4a77-e612-63c432d4a92a"
      },
      "source": [
        "%%R\n",
        "median(ICUData_df$SAPS.II)\n",
        "## also possible\n",
        "quantile(ICUData_df$SAPS.II, probs = 0.5)"
      ],
      "execution_count": null,
      "outputs": [
        {
          "output_type": "stream",
          "name": "stdout",
          "text": [
            "50% \n",
            " 42 \n"
          ]
        }
      ]
    },
    {
      "cell_type": "code",
      "metadata": {
        "colab": {
          "base_uri": "https://localhost:8080/"
        },
        "id": "MMKwtPzVt-76",
        "outputId": "5d31039b-5269-4d5c-ba1a-97c10a0abd88"
      },
      "source": [
        "%%R\n",
        "IQR(ICUData_df$SAPS.II)"
      ],
      "execution_count": null,
      "outputs": [
        {
          "output_type": "stream",
          "name": "stdout",
          "text": [
            "[1] 26\n"
          ]
        }
      ]
    },
    {
      "cell_type": "code",
      "metadata": {
        "colab": {
          "base_uri": "https://localhost:8080/"
        },
        "id": "SaNpj0CjuByp",
        "outputId": "a67ca86f-321a-46d0-9422-7b89969c2dbd"
      },
      "source": [
        "%%R\n",
        "mad(ICUData_df$SAPS.II, constant = 1.0)"
      ],
      "execution_count": null,
      "outputs": [
        {
          "output_type": "stream",
          "name": "stdout",
          "text": [
            "[1] 13\n"
          ]
        }
      ]
    },
    {
      "cell_type": "code",
      "metadata": {
        "colab": {
          "base_uri": "https://localhost:8080/"
        },
        "id": "9yodRzeEuDmR",
        "outputId": "c8dadf6d-49f9-4390-bf83-b1277bad9f8c"
      },
      "source": [
        "%%R\n",
        "mad(ICUData_df$SAPS.II)"
      ],
      "execution_count": null,
      "outputs": [
        {
          "output_type": "stream",
          "name": "stdout",
          "text": [
            "[1] 19.2738\n"
          ]
        }
      ]
    },
    {
      "cell_type": "code",
      "metadata": {
        "colab": {
          "base_uri": "https://localhost:8080/"
        },
        "id": "5jrK7E4HuEgA",
        "outputId": "7784524d-5dbd-4723-e91d-f525226905d2"
      },
      "source": [
        "%%R\n",
        "sIQR(ICUData_df$SAPS.II)"
      ],
      "execution_count": null,
      "outputs": [
        {
          "output_type": "stream",
          "name": "stdout",
          "text": [
            "[1] 19.27383\n"
          ]
        }
      ]
    },
    {
      "cell_type": "code",
      "metadata": {
        "colab": {
          "base_uri": "https://localhost:8080/",
          "height": 497
        },
        "id": "WBCjAJJCuI1p",
        "outputId": "37975eae-def4-41d6-b091-ed13d014aeab"
      },
      "source": [
        "%%R\n",
        "ggplot(ICUData_df, aes(x=SAPS.II)) +\n",
        "  ## Add bars\n",
        "  geom_bar(aes(y = 100*(..count..)/sum(..count..))) +\n",
        "  ## Percent of the relative frequency\n",
        "  scale_y_continuous(labels = percent_format(accuracy = 1)) +\n",
        "  ## Title and label of y axis\n",
        "  ggtitle(\"SAPS II\") + ylab(\"Relative frequency in %\")"
      ],
      "execution_count": null,
      "outputs": [
        {
          "output_type": "display_data",
          "data": {
            "image/png": "[encoded data removed]"
          },
          "metadata": {}
        }
      ]
    },
    {
      "cell_type": "code",
      "metadata": {
        "colab": {
          "base_uri": "https://localhost:8080/",
          "height": 497
        },
        "id": "hqewXIh7uLCj",
        "outputId": "ea51ace5-cc0a-48b0-f100-8e759e9068ab"
      },
      "source": [
        "%%R\n",
        "boxplot(ICUData_df$SAPS.II, main = \"500 ICU patients\", ylab = \"SAPS II score\")"
      ],
      "execution_count": null,
      "outputs": [
        {
          "output_type": "display_data",
          "data": {
            "image/png": "[encoded data removed]"
          },
          "metadata": {}
        }
      ]
    },
    {
      "cell_type": "code",
      "metadata": {
        "colab": {
          "base_uri": "https://localhost:8080/",
          "height": 497
        },
        "id": "1dwYQUhWuMtM",
        "outputId": "b23612bd-1e1b-4002-fc10-8b727b26e2c2"
      },
      "source": [
        "%%R\n",
        "ggplot(ICUData_df, aes(x = 1, y = SAPS.II)) +\n",
        "  geom_boxplot() + xlim(0, 2) + ylab(\"SAPS II Score\") +\n",
        "  ggtitle(\"500 ICU Patients\")"
      ],
      "execution_count": null,
      "outputs": [
        {
          "output_type": "display_data",
          "data": {
            "image/png": "[encoded data removed]"
          },
          "metadata": {}
        }
      ]
    },
    {
      "cell_type": "code",
      "metadata": {
        "colab": {
          "base_uri": "https://localhost:8080/",
          "height": 497
        },
        "id": "n0Z6QgkKuO_G",
        "outputId": "6218cefa-f428-4a31-ce5a-fe047502657c"
      },
      "source": [
        "%%R\n",
        "ggplot(ICUData_df, aes(x = 1, y = SAPS.II)) +\n",
        "  geom_boxplot() + xlim(0, 2) + ylab(\"SAPS II Score\") +\n",
        "  geom_point() + ggtitle(\"500 ICU Patients\")"
      ],
      "execution_count": null,
      "outputs": [
        {
          "output_type": "display_data",
          "data": {
            "image/png": "[encoded data removed]"
          },
          "metadata": {}
        }
      ]
    },
    {
      "cell_type": "code",
      "metadata": {
        "colab": {
          "base_uri": "https://localhost:8080/",
          "height": 497
        },
        "id": "BtJSj382uQ0e",
        "outputId": "645ca5d3-872f-4dfd-c1cc-774a8a178cd3"
      },
      "source": [
        "%%R\n",
        "ggplot(ICUData_df, aes(x = 1, y = SAPS.II)) +\n",
        "  geom_boxplot() + xlim(0, 2) + ylab(\"SAPS II Score\") +\n",
        "  geom_point(alpha = 0.1) + ggtitle(\"500 ICU Patients\")"
      ],
      "execution_count": null,
      "outputs": [
        {
          "output_type": "display_data",
          "data": {
            "image/png": "[encoded data removed]"
          },
          "metadata": {}
        }
      ]
    },
    {
      "cell_type": "code",
      "metadata": {
        "colab": {
          "base_uri": "https://localhost:8080/",
          "height": 497
        },
        "id": "793D9zcNuStY",
        "outputId": "cf12bbb2-dab8-43b7-84e0-9cba9aedaac9"
      },
      "source": [
        "%%R\n",
        "ggplot(ICUData_df, aes(x = 1, y = SAPS.II)) +\n",
        "  geom_boxplot() + xlim(0, 2) + ylab(\"SAPS II Score\") +\n",
        "  geom_jitter(height = 0, width = 0.1, alpha = 0.2) + \n",
        "  ggtitle(\"500 ICU Patients\")"
      ],
      "execution_count": null,
      "outputs": [
        {
          "output_type": "display_data",
          "data": {
            "image/png": "[encoded data removed]"
          },
          "metadata": {}
        }
      ]
    },
    {
      "cell_type": "markdown",
      "metadata": {
        "id": "mIL1W-hSwaIX"
      },
      "source": [
        "#Metric Variable's Univariate Analysis"
      ]
    },
    {
      "cell_type": "code",
      "metadata": {
        "colab": {
          "base_uri": "https://localhost:8080/"
        },
        "id": "rXlbFXKpwMtK",
        "outputId": "c3e72cb5-a7d2-4f47-fa4d-e1153429fa72"
      },
      "source": [
        "%%R\n",
        "mean(ICUData$temperature)"
      ],
      "execution_count": null,
      "outputs": [
        {
          "output_type": "stream",
          "name": "stdout",
          "text": [
            "[1] 4.880826\n"
          ]
        }
      ]
    },
    {
      "cell_type": "code",
      "metadata": {
        "colab": {
          "base_uri": "https://localhost:8080/"
        },
        "id": "jXlwaGI4wkPe",
        "outputId": "41195ac0-dda3-4110-80ff-eed82dfcb524"
      },
      "source": [
        "%%R\n",
        "round(mean(ICUData_df$temperature), 1)"
      ],
      "execution_count": null,
      "outputs": [
        {
          "output_type": "stream",
          "name": "stdout",
          "text": [
            "[1] 37.7\n"
          ]
        }
      ]
    },
    {
      "cell_type": "code",
      "metadata": {
        "colab": {
          "base_uri": "https://localhost:8080/"
        },
        "id": "-DSttdEYwlzo",
        "outputId": "02402474-0e4e-44dc-f762-838d3c365d03"
      },
      "source": [
        "%%R\n",
        "median(ICUData_df$temperature)"
      ],
      "execution_count": null,
      "outputs": [
        {
          "output_type": "stream",
          "name": "stdout",
          "text": [
            "[1] 37.7\n"
          ]
        }
      ]
    },
    {
      "cell_type": "code",
      "metadata": {
        "colab": {
          "base_uri": "https://localhost:8080/"
        },
        "id": "kTbiZLfDwn23",
        "outputId": "df119d75-a20a-4df7-ec1b-84f1ad27d175"
      },
      "source": [
        "%%R\n",
        "round(mean(ICUData_df$LOS),1)\n",
        "median(ICUData_df$LOS)"
      ],
      "execution_count": null,
      "outputs": [
        {
          "output_type": "stream",
          "name": "stdout",
          "text": [
            "[1] 1\n"
          ]
        }
      ]
    },
    {
      "cell_type": "code",
      "metadata": {
        "colab": {
          "base_uri": "https://localhost:8080/"
        },
        "id": "7gPw3nYxwqEM",
        "outputId": "d3d52d7e-d4cc-4b48-a7c2-e1f27cc69d05"
      },
      "source": [
        "%%R\n",
        "log(Gmean(ICUData_df$bilirubin))"
      ],
      "execution_count": null,
      "outputs": [
        {
          "output_type": "stream",
          "name": "stdout",
          "text": [
            "[1] 2.847326\n"
          ]
        }
      ]
    },
    {
      "cell_type": "code",
      "metadata": {
        "colab": {
          "base_uri": "https://localhost:8080/"
        },
        "id": "NYQvelOmwsGA",
        "outputId": "3185ec4d-67fe-4b61-81ef-f136e0213571"
      },
      "source": [
        "%%R\n",
        "mean(log(ICUData_df$bilirubin))"
      ],
      "execution_count": null,
      "outputs": [
        {
          "output_type": "stream",
          "name": "stdout",
          "text": [
            "[1] 2.847326\n"
          ]
        }
      ]
    },
    {
      "cell_type": "code",
      "metadata": {
        "colab": {
          "base_uri": "https://localhost:8080/"
        },
        "id": "yYeCEds8wt_y",
        "outputId": "7d9cd221-d7dd-4c7a-cf11-e533cf7bd736"
      },
      "source": [
        "%%R\n",
        "exp(mean(log(ICUData_df$bilirubin)))"
      ],
      "execution_count": null,
      "outputs": [
        {
          "output_type": "stream",
          "name": "stdout",
          "text": [
            "[1] 17.24162\n"
          ]
        }
      ]
    },
    {
      "cell_type": "code",
      "metadata": {
        "colab": {
          "base_uri": "https://localhost:8080/"
        },
        "id": "qqqpWOjYwvoN",
        "outputId": "a3099c63-1157-487c-c750-31a9b6073c41"
      },
      "source": [
        "%%R\n",
        "var(ICUData_df$temperature)\n",
        "sd(ICUData_df$temperature)"
      ],
      "execution_count": null,
      "outputs": [
        {
          "output_type": "stream",
          "name": "stdout",
          "text": [
            "[1] 1.735474\n"
          ]
        }
      ]
    },
    {
      "cell_type": "code",
      "metadata": {
        "colab": {
          "base_uri": "https://localhost:8080/"
        },
        "id": "PDTJrOIGwx-M",
        "outputId": "39604de6-bbf9-4452-c5c6-4c25203fab30"
      },
      "source": [
        "%%R\n",
        "n <- nrow(ICUData_df)\n",
        "(n-1)/n*var(ICUData_df$temperature)\n",
        "(n-1)/n*sd(ICUData_df$temperature)"
      ],
      "execution_count": null,
      "outputs": [
        {
          "output_type": "stream",
          "name": "stdout",
          "text": [
            "[1] 1.732003\n"
          ]
        }
      ]
    },
    {
      "cell_type": "code",
      "metadata": {
        "colab": {
          "base_uri": "https://localhost:8080/"
        },
        "id": "rot3OvwVw09o",
        "outputId": "4c056622-3bfa-4552-92ff-959d8a88a099"
      },
      "source": [
        "%%R\n",
        "sd(ICUData_df$temperature)\n",
        "mad(ICUData_df$temperature)\n",
        "sIQR(ICUData_df$temperature)"
      ],
      "execution_count": null,
      "outputs": [
        {
          "output_type": "stream",
          "name": "stdout",
          "text": [
            "[1] 1.111952\n"
          ]
        }
      ]
    },
    {
      "cell_type": "code",
      "metadata": {
        "colab": {
          "base_uri": "https://localhost:8080/"
        },
        "id": "WmU6rF_xw3Vz",
        "outputId": "81eeaddf-ae1b-408a-b9f9-c0460d913b75"
      },
      "source": [
        "%%R\n",
        "CV(ICUData_df$temperature)\n",
        "medCV(ICUData_df$temperature)\n",
        "iqrCV(ICUData_df$temperature)"
      ],
      "execution_count": null,
      "outputs": [
        {
          "output_type": "stream",
          "name": "stdout",
          "text": [
            "[1] 0.02949474\n"
          ]
        }
      ]
    },
    {
      "cell_type": "code",
      "metadata": {
        "colab": {
          "base_uri": "https://localhost:8080/"
        },
        "id": "KE2MLq3rw5-t",
        "outputId": "ee986454-0b36-4be7-b0db-56847922797c"
      },
      "source": [
        "%%R\n",
        "log(Gsd(ICUData_df$bilirubin))\n",
        "sd(log(ICUData_df$bilirubin))"
      ],
      "execution_count": null,
      "outputs": [
        {
          "output_type": "stream",
          "name": "stdout",
          "text": [
            "[1] 0.7238379\n"
          ]
        }
      ]
    },
    {
      "cell_type": "code",
      "metadata": {
        "colab": {
          "base_uri": "https://localhost:8080/"
        },
        "id": "zp7K7XPOw9pq",
        "outputId": "833c75c8-ecf2-4727-d461-9adb4e40c98a"
      },
      "source": [
        "%%R\n",
        "Skew(ICUData_df$temperature[-398])"
      ],
      "execution_count": null,
      "outputs": [
        {
          "output_type": "stream",
          "name": "stdout",
          "text": [
            "[1] 0.3142909\n"
          ]
        }
      ]
    },
    {
      "cell_type": "code",
      "metadata": {
        "colab": {
          "base_uri": "https://localhost:8080/"
        },
        "id": "tvNyP-VxxASe",
        "outputId": "bc486982-ef0a-4879-b15d-b26bc67b37a5"
      },
      "source": [
        "%%R\n",
        "Kurt(ICUData_df$temperature)\n",
        "Kurt(ICUData_df$temperature[-398])"
      ],
      "execution_count": null,
      "outputs": [
        {
          "output_type": "stream",
          "name": "stdout",
          "text": [
            "[1] 0.3431707\n"
          ]
        }
      ]
    },
    {
      "cell_type": "code",
      "metadata": {
        "colab": {
          "base_uri": "https://localhost:8080/"
        },
        "id": "ofKLaRZgxCIE",
        "outputId": "ef8ed50e-261a-40a3-d186-578bf38ffc2a"
      },
      "source": [
        "%%R\n",
        "Kurt(ICUData_df$LOS)"
      ],
      "execution_count": null,
      "outputs": [
        {
          "output_type": "stream",
          "name": "stdout",
          "text": [
            "[1] 33.59482\n"
          ]
        }
      ]
    },
    {
      "cell_type": "code",
      "metadata": {
        "colab": {
          "base_uri": "https://localhost:8080/",
          "height": 497
        },
        "id": "SFiiwJr6xEF6",
        "outputId": "c55321b8-88c4-4e7e-b3ad-5ac38bca9aa5"
      },
      "source": [
        "## Box-and-whisker plot at position x = 1\n",
        "%%R\n",
        "ggplot(ICUData_df, aes(x = 1, y = temperature)) +\n",
        "  geom_boxplot() + xlim(0, 2) + ylab(\"Maximum body temperature\") +\n",
        "  geom_jitter(height = 0, width = 0.1, alpha = 0.1) + \n",
        "  ggtitle(\"500 ICU patients\")"
      ],
      "execution_count": null,
      "outputs": [
        {
          "output_type": "display_data",
          "data": {
            "image/png": "[encoded data removed]"
          },
          "metadata": {}
        }
      ]
    },
    {
      "cell_type": "code",
      "metadata": {
        "colab": {
          "base_uri": "https://localhost:8080/",
          "height": 497
        },
        "id": "j3DWa4J6xGN8",
        "outputId": "1d038c89-4039-487e-8498-8dede8e75d31"
      },
      "source": [
        "%%R\n",
        "hist(ICUData_df$temperature, breaks = seq(from = 9.0, to = 42, by = 0.5),\n",
        "     main = \"500 ICU patients\", xlab = \"Maximum body temperature\",\n",
        "     ylab = \"Absolute frequency\")"
      ],
      "execution_count": null,
      "outputs": [
        {
          "output_type": "display_data",
          "data": {
            "image/png": "[encoded data removed]"
          },
          "metadata": {}
        }
      ]
    },
    {
      "cell_type": "code",
      "metadata": {
        "colab": {
          "base_uri": "https://localhost:8080/",
          "height": 497
        },
        "id": "kNj-27UexL0U",
        "outputId": "eb2dfab0-7066-4593-a97b-288d0655c9c7"
      },
      "source": [
        "%%R\n",
        "ggplot(ICUData_df[-398,], aes(x = temperature)) + stat_ecdf() + \n",
        "  xlab(\"Maximum body temperature\") + ylab(\"Fn(x)\") + \n",
        "  ggtitle(\"Empirical cumulative distribution function\")"
      ],
      "execution_count": null,
      "outputs": [
        {
          "output_type": "display_data",
          "data": {
            "image/png": "[encoded data removed]"
          },
          "metadata": {}
        }
      ]
    },
    {
      "cell_type": "code",
      "metadata": {
        "id": "Ty63Y8yIyfGb"
      },
      "source": [
        "%%R\n",
        "install.packages(c(\"distr\", \"distr6\"))"
      ],
      "execution_count": null,
      "outputs": []
    },
    {
      "cell_type": "code",
      "metadata": {
        "id": "sV0pqfbFzFN2"
      },
      "source": [
        "library(distr)\n",
        "library(distr6)"
      ],
      "execution_count": null,
      "outputs": []
    },
    {
      "cell_type": "code",
      "metadata": {
        "colab": {
          "base_uri": "https://localhost:8080/"
        },
        "id": "ZyCC5K5SqIJu",
        "outputId": "9a8d503c-c46e-4ff5-b962-ec797ad02770"
      },
      "source": [
        "%%R\n",
        "X=ICUData_df$heart.rate\n",
        "#print(length(X))\n",
        "T=table(X) # frequency table\n",
        "phat= T[2]/length(X) # estimation of p\n",
        "p=phat\n",
        "\n",
        "sim_data=rbinom(1000,1,p)\n",
        " sim_data"
      ],
      "execution_count": null,
      "outputs": [
        {
          "output_type": "stream",
          "name": "stdout",
          "text": [
            "   [1] 0 0 0 0 0 0 0 0 0 0 0 0 0 0 0 0 0 0 0 0 0 0 0 0 0 0 0 0 0 0 0 0 0 0 0 0 0\n",
            "  [38] 0 0 0 0 0 0 0 0 0 0 0 0 0 0 0 0 0 0 0 0 0 0 0 0 0 0 0 0 0 0 0 0 0 0 0 0 0\n",
            "  [75] 0 0 0 0 0 0 0 0 0 0 0 0 0 0 0 0 0 0 0 0 0 0 0 0 0 0 0 0 0 0 0 0 0 0 0 0 0\n",
            " [112] 0 0 0 0 0 0 0 0 0 0 0 0 0 0 0 0 0 0 0 0 0 0 0 0 0 0 0 0 0 0 0 0 0 0 0 0 0\n",
            " [149] 0 0 0 0 0 0 0 0 0 0 0 0 0 0 0 0 0 0 0 0 0 0 0 0 0 0 0 0 0 0 0 0 0 0 0 0 0\n",
            " [186] 0 0 0 0 0 0 0 0 0 0 0 0 0 0 0 0 0 0 0 0 0 0 0 0 0 0 0 0 0 0 0 0 0 0 0 0 0\n",
            " [223] 0 0 0 0 0 0 0 0 0 0 0 0 0 0 0 0 0 0 0 0 0 0 0 0 0 0 0 0 0 0 0 0 0 0 0 0 0\n",
            " [260] 0 0 0 0 0 0 0 0 0 0 0 0 0 0 0 0 0 0 0 0 0 0 0 0 0 0 0 0 0 0 0 0 0 0 0 0 0\n",
            " [297] 0 0 0 0 0 0 0 0 0 0 0 0 0 0 0 0 0 0 0 0 0 0 0 0 0 0 0 0 0 0 0 0 0 0 0 0 0\n",
            " [334] 0 0 0 0 0 0 0 0 0 0 0 0 0 0 0 0 0 0 0 0 0 0 0 0 0 0 0 0 0 0 0 0 0 0 0 0 0\n",
            " [371] 0 0 0 0 0 0 0 0 0 0 0 0 0 1 0 0 0 0 0 0 0 0 0 0 0 0 0 0 0 0 0 0 0 0 0 0 0\n",
            " [408] 0 0 0 0 0 0 0 0 0 0 0 0 0 0 0 0 0 0 0 0 0 0 0 0 0 0 0 0 0 0 0 0 0 0 0 0 0\n",
            " [445] 0 0 0 0 0 0 0 0 0 0 0 0 0 0 0 0 0 0 0 0 0 0 0 0 0 0 0 0 0 0 0 0 0 0 0 0 0\n",
            " [482] 0 0 0 0 0 0 0 0 0 0 0 0 0 0 0 0 0 0 0 0 0 0 0 0 0 0 0 0 0 0 0 0 0 0 0 0 0\n",
            " [519] 0 0 0 0 0 0 0 0 0 0 0 0 0 0 0 0 0 0 0 0 0 0 0 0 0 0 0 0 0 0 0 0 0 0 0 0 0\n",
            " [556] 0 0 0 0 0 0 0 0 0 1 0 0 0 0 0 0 0 0 0 0 0 0 0 0 0 0 0 0 0 0 0 0 0 0 0 0 0\n",
            " [593] 0 0 0 0 0 0 0 0 0 0 0 0 0 0 0 0 0 0 0 0 0 0 0 0 0 0 0 0 0 0 0 0 0 0 0 0 0\n",
            " [630] 0 0 0 0 0 0 0 0 0 0 0 0 0 0 0 0 0 0 0 0 0 0 0 0 0 0 0 0 0 0 0 0 0 0 0 0 0\n",
            " [667] 0 0 0 0 0 0 0 0 0 0 0 0 0 0 0 0 0 0 0 0 0 0 0 0 0 0 0 0 0 0 0 0 0 0 0 0 0\n",
            " [704] 0 0 0 0 0 0 0 0 0 0 0 0 0 0 0 0 0 0 0 0 0 0 0 0 0 0 0 0 0 0 0 0 0 0 0 0 0\n",
            " [741] 0 0 0 0 0 0 0 0 0 0 0 0 0 0 0 0 0 0 0 0 0 0 0 0 0 0 0 0 0 0 0 0 0 0 0 0 0\n",
            " [778] 0 0 0 0 0 0 0 0 0 0 0 0 0 0 0 0 0 0 0 0 0 0 0 0 0 0 0 0 0 0 0 0 0 0 0 0 0\n",
            " [815] 0 0 0 0 0 0 0 0 0 0 0 0 0 0 0 0 0 0 0 0 0 0 0 0 0 0 0 0 0 0 0 0 0 0 0 0 0\n",
            " [852] 0 0 0 0 0 0 0 0 0 0 0 0 0 0 0 0 0 0 0 0 0 0 0 0 0 0 0 0 0 0 0 0 0 0 0 0 0\n",
            " [889] 0 0 0 0 0 0 0 0 0 0 0 0 0 0 0 0 0 0 0 0 0 0 0 0 0 0 0 0 0 0 0 0 0 0 0 0 0\n",
            " [926] 0 0 0 0 0 0 0 0 0 0 0 0 0 0 0 0 0 0 0 0 0 0 0 0 0 0 0 0 0 0 0 0 0 0 0 0 0\n",
            " [963] 0 0 0 0 0 0 0 0 0 0 0 0 0 0 0 0 0 0 0 0 0 0 0 0 0 0 0 0 0 0 0 0 0 0 0 0 0\n",
            "[1000] 0\n"
          ]
        }
      ]
    },
    {
      "cell_type": "markdown",
      "metadata": {
        "id": "PscIyZitglyP"
      },
      "source": [
        "#Wald test Hypothesis testing:\n",
        "\n",
        "Wald test statistic was used to do hypothesis testing\n",
        "\n",
        "H0 : There is no difference in mean heart rate  of  died  and home patient in ICU\n",
        "\n",
        "H1 : Mean heart rate of the 2 patient of ICU's are different\n",
        "\n",
        "The W statistic is 0.05574695\n",
        "\n",
        "The p value is 0.9555434\n",
        "\n",
        "At α=0.05, this implies that we have enough evidence not to reject the null that there is no difference in mean heart rate of two type of ICU Patient"
      ]
    },
    {
      "cell_type": "code",
      "metadata": {
        "colab": {
          "base_uri": "https://localhost:8080/"
        },
        "id": "DOa--l64g2x0",
        "outputId": "7e4dde7e-cde2-4a08-e3c1-c1939cf82844"
      },
      "source": [
        "%%R\n",
        "died=ICUData_df$heart.rate[ICUData_df$outcome==\"died\"]    \n",
        "home=ICUData_df$heart.ratee[ICUData_df$outcome==\"home\"]\n",
        "n.died=length(died)\n",
        "n.died"
      ],
      "execution_count": null,
      "outputs": [
        {
          "output_type": "stream",
          "name": "stdout",
          "text": [
            "[1] 69\n"
          ]
        }
      ]
    },
    {
      "cell_type": "code",
      "metadata": {
        "colab": {
          "base_uri": "https://localhost:8080/"
        },
        "id": "8zs_AKlXg_Xc",
        "outputId": "48a70035-65ad-47bc-ca7f-38fbb0793adf"
      },
      "source": [
        "%%R\n",
        "mu.died=mean(died)\n",
        "sigma.died<-sd(died)\n",
        "n.home=length(home)\n",
        "n.home"
      ],
      "execution_count": null,
      "outputs": [
        {
          "output_type": "stream",
          "name": "stdout",
          "text": [
            "[1] 0\n"
          ]
        }
      ]
    },
    {
      "cell_type": "code",
      "metadata": {
        "colab": {
          "base_uri": "https://localhost:8080/"
        },
        "id": "M0VfVcIqhDFj",
        "outputId": "1660f11b-470d-49be-a812-3422b8fdc6b9"
      },
      "source": [
        "%%R\n",
        "mu.home=mean(home)\n",
        "sigma.home<-sd(home)\n",
        "mu_hat=mu.died-mu.home\n",
        "mu_hat"
      ],
      "execution_count": null,
      "outputs": [
        {
          "output_type": "stream",
          "name": "stdout",
          "text": [
            "[1] NA\n"
          ]
        }
      ]
    },
    {
      "cell_type": "markdown",
      "metadata": {
        "id": "M4yd0BIDhJDb"
      },
      "source": [
        "#The Shapiro-Wilk statistical hypothesis test"
      ]
    },
    {
      "cell_type": "code",
      "metadata": {
        "colab": {
          "base_uri": "https://localhost:8080/"
        },
        "id": "wB4U_ppXhD7Y",
        "outputId": "2eb65893-430c-46f5-b550-13982e48151d"
      },
      "source": [
        "%%R\n",
        "shapiro.test(ICUData_df$heart.rate)"
      ],
      "execution_count": null,
      "outputs": [
        {
          "output_type": "stream",
          "name": "stdout",
          "text": [
            "\n",
            "\tShapiro-Wilk normality test\n",
            "\n",
            "data:  ICUData_df$heart.rate\n",
            "W = 0.97873, p-value = 1.123e-06\n",
            "\n"
          ]
        }
      ]
    },
    {
      "cell_type": "code",
      "metadata": {
        "colab": {
          "base_uri": "https://localhost:8080/",
          "height": 497
        },
        "id": "MxlyRxkthZJL",
        "outputId": "d2c35f51-131a-4169-bb65-266996e932d2"
      },
      "source": [
        "%%R\n",
        "qqnorm(ICUData_df$`heart.rate`, main = \"Normal Q-Q Plot for heart rate of ICU patient\")"
      ],
      "execution_count": null,
      "outputs": [
        {
          "output_type": "display_data",
          "data": {
            "image/png": "[encoded data removed]"
          },
          "metadata": {}
        }
      ]
    },
    {
      "cell_type": "markdown",
      "metadata": {
        "id": "631w6fvwhf6n"
      },
      "source": [
        "#Anova Hypothesis test"
      ]
    },
    {
      "cell_type": "code",
      "metadata": {
        "colab": {
          "base_uri": "https://localhost:8080/"
        },
        "id": "Ro_5oblNhaHI",
        "outputId": "92d49fcb-ab8e-4528-fbbe-a33e5f190577"
      },
      "source": [
        "%%R\n",
        "#One way Anova test\n",
        "one.way <- aov(age ~ heart.rate, data = ICUData_df)\n",
        "\n",
        "summary(one.way)"
      ],
      "execution_count": null,
      "outputs": [
        {
          "output_type": "stream",
          "name": "stdout",
          "text": [
            "             Df Sum Sq Mean Sq F value Pr(>F)\n",
            "heart.rate    1     44   44.07   0.202  0.653\n",
            "Residuals   498 108764  218.40               \n"
          ]
        }
      ]
    },
    {
      "cell_type": "code",
      "metadata": {
        "colab": {
          "base_uri": "https://localhost:8080/"
        },
        "id": "TrK_H-v5jRMz",
        "outputId": "bee7ec7c-1a61-437f-ff2d-52a625d3bfcc"
      },
      "source": [
        "%%R\n",
        "#Two way Anova test\n",
        "two.way <- aov(age ~ heart.rate + temperature, data = ICUData_df)\n",
        "\n",
        "summary(two.way)"
      ],
      "execution_count": null,
      "outputs": [
        {
          "output_type": "stream",
          "name": "stdout",
          "text": [
            "             Df Sum Sq Mean Sq F value Pr(>F)  \n",
            "heart.rate    1     44    44.1   0.202 0.6529  \n",
            "temperature   1    601   600.5   2.759 0.0973 .\n",
            "Residuals   497 108164   217.6                 \n",
            "---\n",
            "Signif. codes:  0 ‘***’ 0.001 ‘**’ 0.01 ‘*’ 0.05 ‘.’ 0.1 ‘ ’ 1\n"
          ]
        }
      ]
    },
    {
      "cell_type": "markdown",
      "metadata": {
        "id": "pcTGKrGIS6ya"
      },
      "source": [
        "# Binomial Distribution"
      ]
    },
    {
      "cell_type": "code",
      "metadata": {
        "colab": {
          "base_uri": "https://localhost:8080/"
        },
        "id": "v4g7m4I5psSZ",
        "outputId": "d032c463-50c7-4410-f846-62e33094a956"
      },
      "source": [
        "#Binomial distribution\n",
        "%%R\n",
        "X=ICUData_df$heart.rate\n",
        "T=table(X)\n",
        "T\n",
        "pmf=dbinom(T,10,0.3) # pmf\n",
        "cdf=pbinom(T,10,0.3)  # cdf\n",
        "df=data.frame(T,pmf,cdf)\n",
        "head(df)"
      ],
      "execution_count": null,
      "outputs": [
        {
          "output_type": "stream",
          "name": "stdout",
          "text": [
            "     X Freq  X.1    Freq.1  X.2    Freq.2\n",
            "1 59.2    1 59.2 0.1210608 59.2 0.1493083\n",
            "2   62    1   62 0.1210608   62 0.1493083\n",
            "3   63    2   63 0.2334744   63 0.3827828\n",
            "4   64    1   64 0.1210608   64 0.1493083\n",
            "5 67.4    1 67.4 0.1210608 67.4 0.1493083\n",
            "6 67.5    1 67.5 0.1210608 67.5 0.1493083\n"
          ]
        }
      ]
    },
    {
      "cell_type": "code",
      "metadata": {
        "id": "aJB22j5dmegX"
      },
      "source": [
        "%%R\n",
        "ICY_d <- head(ICUData_df[ICUData_df$heart.rate == 98.0, ], n = 1)"
      ],
      "execution_count": null,
      "outputs": []
    },
    {
      "cell_type": "code",
      "metadata": {
        "id": "1EmlzG1onOWJ"
      },
      "source": [
        "%%R\n",
        "for (i in 99:110){\n",
        "  ICY_d <- rbind(ICY_d, head(ICUData_df[ICUData_df$heart.rate == i, ], n = 1))\n",
        "}"
      ],
      "execution_count": null,
      "outputs": []
    },
    {
      "cell_type": "code",
      "metadata": {
        "colab": {
          "base_uri": "https://localhost:8080/"
        },
        "id": "zv-2V-0NnWga",
        "outputId": "751c6b5e-93a4-4c9f-a1f6-c8441c07c9d4"
      },
      "source": [
        "# Calculating the average for variable heart rate\n",
        "%%R\n",
        "heart_avg <- mean(ICUData_df$heart.rate)\n",
        "heart_avg"
      ],
      "execution_count": null,
      "outputs": [
        {
          "output_type": "stream",
          "name": "stdout",
          "text": [
            "[1] 107.4144\n"
          ]
        }
      ]
    },
    {
      "cell_type": "code",
      "metadata": {
        "colab": {
          "base_uri": "https://localhost:8080/"
        },
        "id": "NWkZJL_-nlPh",
        "outputId": "3b18d204-f0f5-402e-d478-5117b890c2ec"
      },
      "source": [
        "# Calculating the standard deviation for variabl heart rate\n",
        "%%R\n",
        "heart_ssd <- sd(ICUData_df$heart.rate)\n",
        "heart_ssd\n"
      ],
      "execution_count": null,
      "outputs": [
        {
          "output_type": "stream",
          "name": "stdout",
          "text": [
            "[1] 20.85798\n"
          ]
        }
      ]
    },
    {
      "cell_type": "markdown",
      "metadata": {
        "id": "wi9_-z6oSxsT"
      },
      "source": [
        "# Normal Distribution"
      ]
    },
    {
      "cell_type": "code",
      "metadata": {
        "colab": {
          "base_uri": "https://localhost:8080/"
        },
        "id": "JrlOHbbfnxnD",
        "outputId": "acdb0d8d-74a2-4ac5-dd79-af001c13dbc6"
      },
      "source": [
        "%%R\n",
        "#Normal Probability distribution\n",
        "pnorm(104, heart_avg, heart_ssd)"
      ],
      "execution_count": null,
      "outputs": [
        {
          "output_type": "stream",
          "name": "stdout",
          "text": [
            "[1] 0.4349846\n"
          ]
        }
      ]
    },
    {
      "cell_type": "code",
      "metadata": {
        "colab": {
          "base_uri": "https://localhost:8080/",
          "height": 497
        },
        "id": "-0FatPKwp0yn",
        "outputId": "5cbe7775-96dc-4487-cb89-090dc7007132"
      },
      "source": [
        "%%R\n",
        "#create plot of probability mass function\n",
        "plot(ICUData_df$age, dpois(ICUData_df$age, lambda=50), type='h')"
      ],
      "execution_count": null,
      "outputs": [
        {
          "output_type": "display_data",
          "data": {
            "image/png": "[encoded data removed]"
          },
          "metadata": {}
        }
      ]
    },
    {
      "cell_type": "markdown",
      "metadata": {
        "id": "dA6NEAl8SnG3"
      },
      "source": [
        "# Poisson Distribution"
      ]
    },
    {
      "cell_type": "code",
      "metadata": {
        "colab": {
          "base_uri": "https://localhost:8080/",
          "height": 497
        },
        "id": "eC8d0RuarTJG",
        "outputId": "449bcde6-f6ae-468a-b279-eea1fb4a557c"
      },
      "source": [
        "%%R\n",
        "plot(ICUData_df$SAPS.II\n",
        ", dpois(ICUData_df$SAPS.II\n",
        ", lambda=40),\n",
        "     type='h',\n",
        "     main='Poisson Distribution (lambda = 20)',\n",
        "     ylab='Probability',\n",
        "     xlab ='# Successes',\n",
        "     lwd=3)"
      ],
      "execution_count": null,
      "outputs": [
        {
          "output_type": "display_data",
          "data": {
            "image/png": "[encoded data removed]"
          },
          "metadata": {}
        }
      ]
    }
  ]
}